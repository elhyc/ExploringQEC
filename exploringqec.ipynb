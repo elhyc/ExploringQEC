{
 "cells": [
  {
   "cell_type": "code",
   "execution_count": null,
   "id": "a438eb64",
   "metadata": {},
   "outputs": [],
   "source": [
    "from exploringqec import *\n",
    "from qiskit import *\n",
    "from qiskit.quantum_info import Statevector\n",
    "from qiskit_aer import AerSimulator\n"
   ]
  },
  {
   "cell_type": "markdown",
   "id": "ee2cf63f",
   "metadata": {},
   "source": [
    "\n",
    "In this notebook, we showcase the basic idea in 3 primary examples. The examples here are:\n",
    "\n",
    "1. The quantum repetition code \n",
    "\n",
    "2. The 9-qubit Shor code\n",
    "\n",
    "3. Steane's code\n"
   ]
  },
  {
   "cell_type": "markdown",
   "id": "8a7a8671",
   "metadata": {},
   "source": [
    "## 1. The quantum repetition code\n"
   ]
  },
  {
   "cell_type": "markdown",
   "id": "5deea5d9",
   "metadata": {},
   "source": [
    "The simplest quantum error correcting code is the quantum repetition code. A quantum repetition code consisting of $n$ data qubits can reliably detect and correct up to $\\lfloor (n-1)/2 \\rfloor$ bit-flip *or* phase flip errors. That is, the quantum repetition code is a very basic error correcting code that can only handle one type of possible error. To define a quantum repetition code, we specify the size of the code and the type of error we wish to correct. We demonstrate this with $n = 3$ and protect against bit-flip errors. "
   ]
  },
  {
   "cell_type": "markdown",
   "id": "8ec3ea24",
   "metadata": {},
   "source": [
    "In the situation of the $n = 3$ repetition code, the initialization circuit maintains the initial state $\\ket{000}$. That is, it simply maps $\\ket{000}$ to the ground state $\\ket{000}$. Later, we will see examples of codes that have more elaborate initialization circuits  (i.e. that map $\\ket{ 0}_{n} $ to a non-trivial ground state)."
   ]
  },
  {
   "cell_type": "code",
   "execution_count": 3,
   "id": "8dd3aefc",
   "metadata": {},
   "outputs": [
    {
     "data": {
      "text/latex": [
       "$$ |000\\rangle$$"
      ],
      "text/plain": [
       "<IPython.core.display.Latex object>"
      ]
     },
     "execution_count": 3,
     "metadata": {},
     "output_type": "execute_result"
    }
   ],
   "source": [
    "rep_code_ = quantum_rep_code(3, 'X')\n",
    "Statevector(rep_code_).draw('Latex')\n"
   ]
  },
  {
   "cell_type": "markdown",
   "id": "e09c7e66",
   "metadata": {},
   "source": [
    "Using our simple noise model, we introduce noise to the repetition code. We set the parameters so that there is a 5% chance that each of our data qubits may undergo a random Pauli X operation (i.e. bit flip error). For instructional purposes, our noise nodel function has an optional ```print_option``` parameter: when set to ```True```, the function will print out which qubit(s) have gone through error (and which specific error has happened). Of course, in reality, this knowledge will not be available to us, and this print option is strictly for simulation purposes."
   ]
  },
  {
   "cell_type": "code",
   "execution_count": 4,
   "id": "f74c8eca",
   "metadata": {},
   "outputs": [],
   "source": [
    "rep_code_with_noise = noise_model(0.05,0, rep_code_, print_option=True)"
   ]
  },
  {
   "cell_type": "markdown",
   "id": "3e030a46",
   "metadata": {},
   "source": [
    "The $3$-qubit repetition code works with $2$ syndrome qubits, the way in which the syndrome qubits are coupled with the data qubits is described by a table. Each key of the table consists of the syndrome qubit index, and the value of the table at a given key corresponds to the indices of the data qubits with which the syndrome qubit will be entangled. \n",
    "\n",
    "Upon measuring the syndrome qubits, we will apply a Pauli X operation to a specific qubit, given by a lookup table ```rep_code_decode_table```. The keys of ```rep_code_decode_table``` correspond to a syndrome measurement result, and the values\n",
    "correspond to the index of data qubit to which we will apply a Pauli X operation (the value of $-1$ indicates to us that no Pauli X should be applied at all)."
   ]
  },
  {
   "cell_type": "code",
   "execution_count": null,
   "id": "f2658914",
   "metadata": {},
   "outputs": [],
   "source": [
    "rep_code_table = { 0: [0,1], 1: [1,2] }\n",
    "rep_code_decode_table = {'00':-1 , '01': 0, '11': 1, '10': 2}\n"
   ]
  },
  {
   "cell_type": "code",
   "execution_count": 6,
   "id": "5c850189",
   "metadata": {},
   "outputs": [],
   "source": [
    "syndrome_measure(rep_code_with_noise, rep_code_table, 'Z') \n",
    "\n",
    "job = AerSimulator().run(rep_code_with_noise, shots=1, memory=True)   \n",
    "result = job.result()\n",
    "memory = result.get_memory(rep_code_with_noise)\n",
    "target_qubit = rep_code_decode_table[memory[0]]\n",
    "\n",
    "if target_qubit != -1:\n",
    "    rep_code_with_noise.x(target_qubit)"
   ]
  },
  {
   "cell_type": "code",
   "execution_count": 7,
   "id": "2d83ab9c",
   "metadata": {},
   "outputs": [
    {
     "name": "stdout",
     "output_type": "stream",
     "text": [
      "000\n"
     ]
    }
   ],
   "source": [
    "result = measure_data(rep_code_with_noise, [rep_code_with_noise.qubits[idx] for idx in range(3)])\n",
    "print(result)"
   ]
  },
  {
   "cell_type": "markdown",
   "id": "fdbd9593",
   "metadata": {},
   "source": [
    "## 2. The 9-qubit Shor code"
   ]
  },
  {
   "cell_type": "markdown",
   "id": "f99d509e",
   "metadata": {},
   "source": [
    "Now we examine a more elaborate quantum error correcting code. The Shor code consists of $9$ physical data qubits, and can reliably correct up to one X-error (bit-flip error) and one Z-error (phase-flip error)"
   ]
  },
  {
   "cell_type": "code",
   "execution_count": 8,
   "id": "caed41f2",
   "metadata": {},
   "outputs": [],
   "source": [
    "shor_code_ = shor_code() \n"
   ]
  },
  {
   "cell_type": "markdown",
   "id": "4aae2098",
   "metadata": {},
   "source": [
    "The Shor code circuit takes the initial state $\\ket{000000000}$ to the following ground state:"
   ]
  },
  {
   "cell_type": "code",
   "execution_count": 9,
   "id": "eea4d847",
   "metadata": {},
   "outputs": [
    {
     "data": {
      "text/latex": [
       "$$\\frac{\\sqrt{2}}{4} |000000000\\rangle+\\frac{\\sqrt{2}}{4} |000000111\\rangle+\\frac{\\sqrt{2}}{4} |000111000\\rangle+\\frac{\\sqrt{2}}{4} |000111111\\rangle+\\frac{\\sqrt{2}}{4} |111000000\\rangle+\\frac{\\sqrt{2}}{4} |111000111\\rangle+\\frac{\\sqrt{2}}{4} |111111000\\rangle+\\frac{\\sqrt{2}}{4} |111111111\\rangle$$"
      ],
      "text/plain": [
       "<IPython.core.display.Latex object>"
      ]
     },
     "execution_count": 9,
     "metadata": {},
     "output_type": "execute_result"
    }
   ],
   "source": [
    "\n",
    "statevector = Statevector(shor_code_)\n",
    "statevector.draw('Latex')"
   ]
  },
  {
   "cell_type": "code",
   "execution_count": 14,
   "id": "6ce95a9f",
   "metadata": {},
   "outputs": [
    {
     "name": "stdout",
     "output_type": "stream",
     "text": [
      "Z applied to <Qubit register=(9, \"q\"), index=5>\n"
     ]
    }
   ],
   "source": [
    "shor_code_with_noise = noise_model(0.05, 0.05, shor_code_, print_option=True)"
   ]
  },
  {
   "cell_type": "markdown",
   "id": "40bf32e7",
   "metadata": {},
   "source": [
    "Unlike the repetition code, Shor's code can protect against both X-errors and Z-errors simutaneously. In fact, X-errors and Z-errors can be corrected independently from each other. Similar to the code above, for each type of error, we define two kinds of tables: one table describes indices of syndrome qubits and corresponding data qubits with which the syndrome qubit is entangled, and the other table describes indices of data qubits to operate on given a certain syndrome measurement result."
   ]
  },
  {
   "cell_type": "code",
   "execution_count": null,
   "id": "a2958f65",
   "metadata": {},
   "outputs": [],
   "source": [
    "Z_shor_syndrome_table = {0: [0,1,2,3,4,5] , 1: [3,4,5,6,7,8]}\n",
    "# Shor's code consists of 2 syndrome ancillas, \n",
    "# overlapping in a single block/\"plaquette\" consisting of 3 qubits\n",
    "\n",
    "# syndrome outcomes, assuming a single error:\n",
    "# (0,0) : even parity for all blocks\n",
    "# (1,0) : odd parity in first block \n",
    "# (0,1) : odd parity in third block\n",
    "# (1,1) : odd parity in second block\n",
    "Z_shor_decode_table = { '00': -1,  '10' : 0, '01': 6, '11': 3}"
   ]
  },
  {
   "cell_type": "code",
   "execution_count": null,
   "id": "11f9b16c",
   "metadata": {},
   "outputs": [],
   "source": [
    "syndrome_measure( shor_code_with_noise ,   Z_shor_syndrome_table, 'X')\n",
    "\n",
    "job = AerSimulator().run(shor_code_with_noise, shots=1, memory=True)   \n",
    "result = job.result()\n",
    "memory = result.get_memory(shor_code_with_noise)\n",
    "target_qubit = Z_shor_decode_table[memory[0][::-1]]\n",
    "# print( memory[0][::-1] )\n",
    "# print(target_qubit)\n",
    "if target_qubit != -1:\n",
    "    shor_code_with_noise.z(shor_code_with_noise.qubits[target_qubit])"
   ]
  },
  {
   "cell_type": "code",
   "execution_count": null,
   "id": "4ac7cade",
   "metadata": {},
   "outputs": [],
   "source": [
    "X_shor_syndrome_table = {0: [0,1] , 1: [1,2], 2: [3,4], 3: [4,5], 4:[6,7], 5:[7,8]}\n",
    "X_shor_decode_table = {'000000': -1, '100000': 0, '110000':1, '010000': 2, '001000': 3, '001100':4, '000100':5, '000010': 6, '000011': 7, '000001': 8}\n",
    "syndrome_measure( shor_code_with_noise ,  X_shor_syndrome_table, 'Z')\n",
    "job = AerSimulator().run(shor_code_with_noise, shots=1, memory=True)   \n",
    "result = job.result()\n",
    "memory = result.get_memory(shor_code_with_noise)[0][::-1].replace(' ', '')[2:]\n",
    "target_qubit = X_shor_decode_table[memory]\n",
    "# print(memory)\n",
    "# print(target_qubit)\n",
    "if target_qubit != -1:\n",
    "    shor_code_with_noise.x(target_qubit)\n",
    "    \n",
    "    "
   ]
  },
  {
   "cell_type": "markdown",
   "id": "0c1401a6",
   "metadata": {},
   "source": [
    "In the final decoding step, we wish to examine if the state of the data qubits has successfully been maintained in the correct ground state after going through some potential noise. To do this, we simply apply the inverse of the initialization circuit which maps $\\ket{000000000}$ to the ground state of the Shor code. If in the end, measuring the the data qubits in the computational basis results in $000000000$, then we are successful."
   ]
  },
  {
   "cell_type": "code",
   "execution_count": 18,
   "id": "1458e6b3",
   "metadata": {},
   "outputs": [
    {
     "name": "stdout",
     "output_type": "stream",
     "text": [
      "000000000\n"
     ]
    }
   ],
   "source": [
    "shor_code_with_noise.compose(shor_code().inverse(), inplace=True )\n",
    "\n",
    "result  = measure_data(shor_code_with_noise, [shor_code_with_noise.qubits[idx] for idx in range(9)] )\n",
    "print(result) "
   ]
  },
  {
   "cell_type": "markdown",
   "id": "3c799626",
   "metadata": {},
   "source": [
    "## 2. Steane's code"
   ]
  },
  {
   "cell_type": "markdown",
   "id": "391f5c96",
   "metadata": {},
   "source": [
    "Steane's code is another quantum error correcting code design that also protects against single X and single Z errors independently from each other. "
   ]
  },
  {
   "cell_type": "code",
   "execution_count": 20,
   "id": "1597712f",
   "metadata": {},
   "outputs": [],
   "source": [
    "steane_code_ = steane_code()"
   ]
  },
  {
   "cell_type": "markdown",
   "id": "f37841ad",
   "metadata": {},
   "source": [
    "The groundstate of Steane's code is depicted below. Similar to Steane's code, the initialization circuit maps $\\ket{0}_{n}$ to the following groundstate. "
   ]
  },
  {
   "cell_type": "code",
   "execution_count": 21,
   "id": "6d82bcff",
   "metadata": {},
   "outputs": [
    {
     "data": {
      "text/latex": [
       "$$\\frac{\\sqrt{2}}{4} |0000000\\rangle+\\frac{\\sqrt{2}}{4} |0011110\\rangle+\\frac{\\sqrt{2}}{4} |0101101\\rangle+\\frac{\\sqrt{2}}{4} |0110011\\rangle+\\frac{\\sqrt{2}}{4} |1001011\\rangle+\\frac{\\sqrt{2}}{4} |1010101\\rangle+\\frac{\\sqrt{2}}{4} |1100110\\rangle+\\frac{\\sqrt{2}}{4} |1111000\\rangle$$"
      ],
      "text/plain": [
       "<IPython.core.display.Latex object>"
      ]
     },
     "execution_count": 21,
     "metadata": {},
     "output_type": "execute_result"
    }
   ],
   "source": [
    "statevector = Statevector(steane_code_)\n",
    "statevector.draw('Latex')"
   ]
  },
  {
   "cell_type": "markdown",
   "id": "fc7f2662",
   "metadata": {},
   "source": [
    "Again, we introduce noise to the circuit with prescribed probabilities, using our noise model. Then, using predefined static syndrome/decoding tables, we attempt to maintain the correct state and decode back to the initial state $\\ket{0}_{n}$ (and measure our system with respect to the computational basis to $00 \\cdots 0$)"
   ]
  },
  {
   "cell_type": "code",
   "execution_count": 81,
   "id": "c81d3cca",
   "metadata": {},
   "outputs": [
    {
     "name": "stdout",
     "output_type": "stream",
     "text": [
      "X applied to <Qubit register=(7, \"q\"), index=4>\n",
      "Z applied to <Qubit register=(7, \"q\"), index=5>\n"
     ]
    }
   ],
   "source": [
    "steane_code_with_noise = noise_model( 0.05,0.05, steane_code_ , print_option=True )"
   ]
  },
  {
   "cell_type": "code",
   "execution_count": null,
   "id": "38586622",
   "metadata": {},
   "outputs": [],
   "source": [
    "steane_syndrome_table = { 0 : [0,2,4,6], 1: [1,2,5,6] , 2: [3,4,5,6] }\n",
    "steane_decoding_table = { '001': 0, '010': 1, '100': 3, '011' : 2, '101': 4, '110': 5, '111': 6 }"
   ]
  },
  {
   "cell_type": "code",
   "execution_count": null,
   "id": "0178cc02",
   "metadata": {},
   "outputs": [],
   "source": [
    "syndrome_measure( steane_code_with_noise ,   steane_syndrome_table, 'X')\n",
    "\n",
    "job = AerSimulator().run(steane_code_with_noise, shots=1, memory=True)   \n",
    "result = job.result()\n",
    "memory = result.get_memory(steane_code_with_noise)\n",
    "target_idx = int(memory[0][-3:],2)-1\n",
    "if target_idx != -1:\n",
    "    steane_code_with_noise.z( target_idx )"
   ]
  },
  {
   "cell_type": "code",
   "execution_count": null,
   "id": "6c8aa146",
   "metadata": {},
   "outputs": [],
   "source": [
    "syndrome_measure( steane_code_with_noise ,   steane_syndrome_table, 'Z')\n",
    "job = AerSimulator().run(steane_code_with_noise, shots=1, memory=True)   \n",
    "result = job.result()\n",
    "memory = result.get_memory(steane_code_with_noise)\n",
    "target_idx = int(memory[0][:3],2) - 1\n",
    "if target_idx != -1:\n",
    "    steane_code_with_noise.x( target_idx )"
   ]
  },
  {
   "cell_type": "code",
   "execution_count": 88,
   "id": "41f5a2bb",
   "metadata": {},
   "outputs": [
    {
     "name": "stdout",
     "output_type": "stream",
     "text": [
      "0000000\n"
     ]
    }
   ],
   "source": [
    "steane_code_with_noise.compose(steane_code().inverse(), inplace=True )\n",
    "\n",
    "result  = measure_data(steane_code_with_noise, [steane_code_with_noise.qubits[idx] for idx in range(7)] )\n",
    "print(result) "
   ]
  },
  {
   "cell_type": "markdown",
   "id": "f9d4207d",
   "metadata": {},
   "source": [
    " Steane's code only requires 7 qubits instead of the 9 qubits that Shor's code requires. Furthermore, unlike Shor's code, syndrome measurements for both X and Z errors are treated symmetrically. More specifically, note how in the case of Shor's code, separate tables describing the syndrome qubits and decoding procedures are required for X errors and Z errors. In the situation of Steane's code, we only need to define a single pair of syndrome/decoding tables to handle both X and Z errors.\n"
   ]
  },
  {
   "cell_type": "markdown",
   "id": "49146a1c",
   "metadata": {},
   "source": [
    "\n",
    "#### Final remarks:\n",
    "\n",
    "One challenge that one may detect from the above examples, is that the design of syndrome qubit systems and its interaction with the data qubits can be quite delicate. We have already mentioned that the syndrome/decoding table pairs for Shor's code and Steane's code are defined quite differently (where in the Steane situation, we only need to define a single pair of tables). Regardless, we see that in both situations, we use static predefined tables that are specific to some code design -- there is no ready formula or algorithm that produces appropriate tables given a code initialization circuit (for example). In fact, one may also do away with defining a \"decoding table\" entirely: given a syndrome qubit system, and a resulting measurement of the syndrome qubit system, one may conceive of an algorithm which dynamically determines how one should operate on the code circuit. Indeed, there are code families for which there are such readily available algorithms (for example, surface codes). However, such algorithms are specific to surface codes (or related codes), and there are no known universal algorithms to handle all possible code designs. \n",
    "\n",
    "\n"
   ]
  }
 ],
 "metadata": {
  "kernelspec": {
   "display_name": "venv",
   "language": "python",
   "name": "python3"
  },
  "language_info": {
   "codemirror_mode": {
    "name": "ipython",
    "version": 3
   },
   "file_extension": ".py",
   "mimetype": "text/x-python",
   "name": "python",
   "nbconvert_exporter": "python",
   "pygments_lexer": "ipython3",
   "version": "3.11.13"
  }
 },
 "nbformat": 4,
 "nbformat_minor": 5
}
